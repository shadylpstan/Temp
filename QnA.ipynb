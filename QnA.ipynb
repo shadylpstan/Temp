{
 "cells": [
  {
   "cell_type": "code",
   "execution_count": null,
   "id": "9f768d2d-494c-4c8b-a155-79f61b0fd13f",
   "metadata": {},
   "outputs": [],
   "source": [
    "import os\n",
    "import openai"
   ]
  },
  {
   "cell_type": "code",
   "execution_count": null,
   "id": "847aeb45-3aba-4f01-a44c-958f626d0d13",
   "metadata": {},
   "outputs": [],
   "source": [
    "os.environ['OPENAI_API_KEY'] = ""
   ]
  },
  {
   "cell_type": "code",
   "execution_count": null,
   "id": "02aa8115-6628-4957-b6e0-c986a480a145",
   "metadata": {},
   "outputs": [],
   "source": []
  },
  {
   "cell_type": "code",
   "execution_count": null,
   "id": "909ca860-b5a9-4e35-87d2-56c363631e4a",
   "metadata": {},
   "outputs": [],
   "source": [
    "from PyPDF2 import PdfReader\n",
    "\n",
    "def extract_text_from_pdf(file_path):\n",
    "    reader = PdfReader(file_path)\n",
    "    text = \"\"\n",
    "    for page in reader.pages:\n",
    "        text += page.extract_text() + \"\\n\"\n",
    "    return text"
   ]
  },
  {
   "cell_type": "code",
   "execution_count": null,
   "id": "510a0cd7-a761-4843-a9c4-930a0e9765ab",
   "metadata": {},
   "outputs": [],
   "source": [
    "from langchain.text_splitter import RecursiveCharacterTextSplitter\n",
    "\n",
    "def split_text(text):\n",
    "    splitter = RecursiveCharacterTextSplitter(chunk_size=1000, chunk_overlap=200)\n",
    "    return splitter.split_text(text)"
   ]
  },
  {
   "cell_type": "code",
   "execution_count": null,
   "id": "8c3f9118-529e-401a-9d41-61918af7d978",
   "metadata": {},
   "outputs": [],
   "source": [
    "from langchain.embeddings import OpenAIEmbeddings\n",
    "from langchain.vectorstores import FAISS\n",
    "\n",
    "def create_vectorstore(chunks):\n",
    "    embeddings = OpenAIEmbeddings()\n",
    "    return FAISS.from_texts(chunks, embeddings)"
   ]
  },
  {
   "cell_type": "code",
   "execution_count": null,
   "id": "64808efb-481a-4389-bf37-fce8b7745f6e",
   "metadata": {},
   "outputs": [],
   "source": [
    "from langchain.chat_models import ChatOpenAI\n",
    "from langchain.chains import RetrievalQA\n",
    "\n",
    "def setup_qa_chain(vectorstore):\n",
    "    retriever = vectorstore.as_retriever()\n",
    "    llm = ChatOpenAI(model_name=\"gpt-4\")\n",
    "    return RetrievalQA.from_chain_type(llm=llm, retriever=retriever)"
   ]
  },
  {
   "cell_type": "code",
   "execution_count": null,
   "id": "1a6d35fd-c0dd-4ebe-a768-ba1209aba29a",
   "metadata": {},
   "outputs": [],
   "source": [
    "def answer_question(qa_chain, query):\n",
    "    return qa_chain.run(query)"
   ]
  },
  {
   "cell_type": "code",
   "execution_count": null,
   "id": "a0bf94d6-dcc3-4fd7-b150-df88353760d9",
   "metadata": {},
   "outputs": [],
   "source": []
  },
  {
   "cell_type": "code",
   "execution_count": null,
   "id": "0053244b-fbcf-45a6-bd83-d0790832d967",
   "metadata": {},
   "outputs": [],
   "source": []
  },
  {
   "cell_type": "code",
   "execution_count": null,
   "id": "0d13de2c-12f0-4831-99c7-34a852578176",
   "metadata": {
    "scrolled": true
   },
   "outputs": [],
   "source": [
    "chunks = split_text(text)\n",
    "vectorstore = create_vectorstore(chunks)\n",
    "qa_chain = setup_qa_chain(vectorstore)"
   ]
  },
  {
   "cell_type": "code",
   "execution_count": null,
   "id": "3a6361a2-7be9-401c-bf8f-431e1f90c64a",
   "metadata": {},
   "outputs": [],
   "source": []
  },
  {
   "cell_type": "code",
   "execution_count": null,
   "id": "41c12615-f181-4e22-b7a7-ad0b953cb97f",
   "metadata": {},
   "outputs": [],
   "source": [
    "from pathlib import Path\n",
    "\n",
    "def get_all_files(root_folder):\n",
    "    path = Path(root_folder)\n",
    "    return [str(f) for f in path.rglob('*') if f.is_file()]\n",
    "\n",
    "# Example usage\n",
    "all_files = get_all_files(\"./documents/\")\n",
    "for f in all_files:\n",
    "    if f == \"documents\\PC100123456\\Policy_Renewal_PC100123456.pdf\":\n",
    "        print(\"===========================\")\n",
    "        text = extract_text_from_pdf(f)\n",
    "        chunks = split_text(text)\n",
    "        vectorstore = create_vectorstore(chunks)\n",
    "        qa_chain = setup_qa_chain(vectorstore)"
   ]
  },
  {
   "cell_type": "code",
   "execution_count": null,
   "id": "43cbd338-934a-4c55-bd46-8c9b59f6e36a",
   "metadata": {},
   "outputs": [],
   "source": []
  },
  {
   "cell_type": "code",
   "execution_count": null,
   "id": "5325a9df-4997-4c4d-9668-dcc99e46a8f8",
   "metadata": {},
   "outputs": [],
   "source": []
  },
  {
   "cell_type": "code",
   "execution_count": null,
   "id": "ea2e3c67-f373-4881-87d8-db7c24fbea9d",
   "metadata": {},
   "outputs": [],
   "source": []
  },
  {
   "cell_type": "code",
   "execution_count": null,
   "id": "88b87ac3-6db5-4f8a-a993-b52f7bb26195",
   "metadata": {},
   "outputs": [],
   "source": []
  },
  {
   "cell_type": "code",
   "execution_count": null,
   "id": "e1da921f-1671-425b-9d9d-7862690ec829",
   "metadata": {},
   "outputs": [],
   "source": []
  },
  {
   "cell_type": "code",
   "execution_count": null,
   "id": "d60d247e-d40f-4954-ac9e-03c7e466c35f",
   "metadata": {},
   "outputs": [],
   "source": []
  },
  {
   "cell_type": "code",
   "execution_count": null,
   "id": "78f3432b-dd82-4073-83ae-1f1e8ed9bc21",
   "metadata": {},
   "outputs": [],
   "source": [
    "while True:\n",
    "    query = input(\"Ask a question (or 'exit' to quit): \")\n",
    "    if query.lower() == \"exit\":\n",
    "        break\n",
    "    answer = qa_chain.run(f\"Fetch the knowledge source which contain information for policy number PC100123456. Related to the this policy, {query} \")\n",
    "    print(f\"Answer: {answer}\")"
   ]
  },
  {
   "cell_type": "code",
   "execution_count": null,
   "id": "fb51256f-0f93-4449-bb0b-dddc70ed0f19",
   "metadata": {},
   "outputs": [],
   "source": []
  },
  {
   "cell_type": "code",
   "execution_count": null,
   "id": "038af92f-8529-4408-b840-25a8e88e94c8",
   "metadata": {},
   "outputs": [],
   "source": []
  },
  {
   "cell_type": "code",
   "execution_count": null,
   "id": "7707adf0-b9f3-42e4-8af3-e7ec37431f05",
   "metadata": {},
   "outputs": [],
   "source": []
  },
  {
   "cell_type": "code",
   "execution_count": null,
   "id": "88e87ff9-fa7d-4aef-a235-ff365853c4b5",
   "metadata": {},
   "outputs": [],
   "source": []
  },
  {
   "cell_type": "code",
   "execution_count": null,
   "id": "6c081708-23e8-4e62-8dcb-64c633adfd00",
   "metadata": {},
   "outputs": [],
   "source": []
  },
  {
   "cell_type": "code",
   "execution_count": null,
   "id": "6619ba0b-b76d-4168-b6be-7135f1a74ef9",
   "metadata": {},
   "outputs": [],
   "source": [
    "import os\n",
    "from PyPDF2 import PdfReader\n",
    "from langchain.schema import Document\n",
    "from langchain.text_splitter import RecursiveCharacterTextSplitter\n",
    "documents = []\n",
    "def load_and_split_documents(folder_path):\n",
    "    splitter = RecursiveCharacterTextSplitter(chunk_size=600, chunk_overlap=200, separators=[\"\\n\\n\", \"\\n\", \".\"])\n",
    "\n",
    "\n",
    "    for filename in os.listdir(folder_path):\n",
    "        if filename.endswith(\".pdf\"):\n",
    "            reader = PdfReader(os.path.join(folder_path, filename))\n",
    "            text = \"\\n\".join([page.extract_text() or \"\" for page in reader.pages])\n",
    "            chunks = splitter.create_documents([text], metadatas=[{\"source\": filename}])\n",
    "            documents.extend(chunks)\n",
    "\n",
    "    return documents\n"
   ]
  },
  {
   "cell_type": "code",
   "execution_count": null,
   "id": "bf0a7a30-9a21-4269-b501-76157acc47fd",
   "metadata": {},
   "outputs": [],
   "source": [
    "from langchain.vectorstores import FAISS\n",
    "from langchain.embeddings import OpenAIEmbeddings\n",
    "\n",
    "def build_vectorstore(documents):\n",
    "    embedding = OpenAIEmbeddings()\n",
    "    return FAISS.from_documents(documents, embedding)"
   ]
  },
  {
   "cell_type": "code",
   "execution_count": null,
   "id": "282c5e9a-1a56-451a-a997-4257d41948fa",
   "metadata": {},
   "outputs": [],
   "source": [
    "from langchain.chains import RetrievalQA\n",
    "from langchain.chat_models import ChatOpenAI\n",
    "\n",
    "def create_qa_chain(vectorstore):\n",
    "    retriever = vectorstore.as_retriever(search_kwargs={\"k\": 3})\n",
    "    llm = ChatOpenAI(model_name=\"gpt-4\")\n",
    "    qa = RetrievalQA.from_chain_type(llm=llm, retriever=retriever, return_source_documents=True)\n",
    "    return qa"
   ]
  },
  {
   "cell_type": "code",
   "execution_count": null,
   "id": "0df026c3-733a-488b-b1b6-799f5442ecc4",
   "metadata": {},
   "outputs": [],
   "source": [
    "docs = load_and_split_documents(r\"C:\\Users\\deepankar158329\\OneDrive - EXLService.com (I) Pvt. Ltd\\Desktop\\POC\\Policy POC\\documents\\PC100123456\")\n",
    "# docs = load_and_split_documents(r\"C:\\Users\\deepankar158329\\OneDrive - EXLService.com (I) Pvt. Ltd\\Desktop\\POC\\Policy POC\\documents\\PC200987654\")\n",
    "qa = None\n",
    "vs = build_vectorstore(docs)\n",
    "qa = create_qa_chain(vs)\n"
   ]
  },
  {
   "cell_type": "code",
   "execution_count": null,
   "id": "8c0fee61-8e05-48c2-af66-84ca437c1a6c",
   "metadata": {},
   "outputs": [],
   "source": [
    "\n",
    "while True:\n",
    "    q = input(\"Ask a question: \")\n",
    "    if q.lower() in {\"exit\", \"quit\"}:\n",
    "        break\n",
    "    result = qa(f\"Extract policy number from the given text. Get information from the knowledge base for this policy. From this knowledge base, {q}\")\n",
    "    print(\"Answer:\", result[\"result\"])\n",
    "    print(\"Sources:\", [doc.metadata['source'] for doc in result['source_documents']])"
   ]
  },
  {
   "cell_type": "code",
   "execution_count": null,
   "id": "d1796fa1-98a9-4323-bc53-9c4816391775",
   "metadata": {},
   "outputs": [],
   "source": []
  },
  {
   "cell_type": "code",
   "execution_count": null,
   "id": "577e0ccb-9f8f-43ba-bfa1-911ac812630d",
   "metadata": {},
   "outputs": [],
   "source": []
  },
  {
   "cell_type": "code",
   "execution_count": null,
   "id": "0b8e8a4f-2c88-469b-b239-b980303d06a8",
   "metadata": {},
   "outputs": [],
   "source": []
  },
  {
   "cell_type": "code",
   "execution_count": null,
   "id": "550a0529-4580-4a59-8ed9-d949a8d78aae",
   "metadata": {},
   "outputs": [],
   "source": []
  },
  {
   "cell_type": "code",
   "execution_count": null,
   "id": "58381891-1259-443f-b760-05079557f739",
   "metadata": {},
   "outputs": [],
   "source": []
  },
  {
   "cell_type": "code",
   "execution_count": null,
   "id": "fd59673e-93ff-4135-bada-751143c4c500",
   "metadata": {},
   "outputs": [],
   "source": []
  },
  {
   "cell_type": "code",
   "execution_count": 11,
   "id": "dec26b9a-1178-4e28-a5ba-de0108f0b7db",
   "metadata": {},
   "outputs": [],
   "source": [
    "import os\n",
    "os.environ['OPENAI_API_KEY'] = \""
   ]
  },
  {
   "cell_type": "code",
   "execution_count": 12,
   "id": "c81b2a3d-6687-4803-a05c-b105b5671dde",
   "metadata": {},
   "outputs": [],
   "source": [
    "import os\n",
    "import re\n",
    "from PyPDF2 import PdfReader\n",
    "from langchain.schema import Document\n",
    "from langchain.embeddings.openai import OpenAIEmbeddings\n",
    "from langchain.text_splitter import RecursiveCharacterTextSplitter\n",
    "from langchain.vectorstores import Chroma\n",
    "from langchain.chains import RetrievalQA\n",
    "from langchain.chat_models import ChatOpenAI\n",
    "import chromadb\n",
    "\n",
    "# --- Chroma server details ---\n",
    "CHROMA_HOST = \"localhost\"          # or your remote IP/domain\n",
    "CHROMA_PORT = 8000\n",
    "COLLECTION_NAME = \"insurance_policies\"\n",
    "\n",
    "# --- PDF Loading & Text Extraction ---\n",
    "def extract_text_from_pdf(pdf_path):\n",
    "    reader = PdfReader(pdf_path)\n",
    "    full_text = \"\"\n",
    "    for page in reader.pages:\n",
    "        text = page.extract_text()\n",
    "        if text:\n",
    "            full_text += text + \"\\n\"\n",
    "    return full_text\n",
    "\n",
    "def extract_policy_number(text):\n",
    "    # Adjust this regex based on your PDF format\n",
    "    match = re.search(r'Policy Number[:\\s]*([A-Z0-9\\-]+)', text, re.IGNORECASE)\n",
    "    return match.group(1).strip() if match else \"unknown_policy\"\n",
    "\n",
    "def load_documents_from_folder(folder_path):\n",
    "    splitter = RecursiveCharacterTextSplitter(chunk_size=700, chunk_overlap=300)\n",
    "    all_docs = []\n",
    "    \n",
    "    for fname in os.listdir(folder_path):\n",
    "        if fname.lower().endswith(\".pdf\"):\n",
    "            path = os.path.join(folder_path, fname)\n",
    "            text = extract_text_from_pdf(path)\n",
    "            policy_num = extract_policy_number(text)\n",
    "            # Split into chunks with metadata\n",
    "            docs = splitter.create_documents([text], metadatas=[{\"source\": fname, \"policy_number\": policy_num}])\n",
    "            all_docs.extend(docs)\n",
    "    \n",
    "    return all_docs\n",
    "\n",
    "# --- Connect to hosted Chroma ---\n",
    "def get_chroma_vectorstore():\n",
    "    client = chromadb.HttpClient(host=CHROMA_HOST, port=CHROMA_PORT)\n",
    "    embeddings = OpenAIEmbeddings(model=\"text-embedding-ada-002\")\n",
    "    return Chroma(client=client, collection_name=COLLECTION_NAME, embedding_function=embeddings)\n",
    "\n",
    "# --- Add docs to Chroma ---\n",
    "def ingest_documents(vectorstore, docs):\n",
    "    vectorstore.add_documents(docs)\n",
    "\n",
    "# --- Create QA chain with filtering by policy_number ---\n",
    "def create_qa_chain(vectorstore, policy_number):\n",
    "    retriever = vectorstore.as_retriever(\n",
    "        search_kwargs={\"filter\": {\"policy_number\": policy_number}, \"k\": 3}\n",
    "    )\n",
    "    llm = ChatOpenAI(model=\"gpt-4\", temperature=0)\n",
    "    return RetrievalQA.from_chain_type(llm=llm, retriever=retriever, return_source_documents=True)\n",
    "\n"
   ]
  },
  {
   "cell_type": "code",
   "execution_count": 13,
   "id": "d99611c0-0823-4985-86dc-a924530e3cfb",
   "metadata": {},
   "outputs": [
    {
     "name": "stdout",
     "output_type": "stream",
     "text": [
      "Loading documents from PDFs...\n",
      "Loaded 38 document chunks.\n"
     ]
    }
   ],
   "source": [
    "folder_path = r\"C:\\Users\\deepankar158329\\OneDrive - EXLService.com (I) Pvt. Ltd\\Desktop\\POC\\Policy POC\\documents\\all_pdfs\"  # Update to your folder\n",
    "\n",
    "print(\"Loading documents from PDFs...\")\n",
    "docs = load_documents_from_folder(folder_path)\n",
    "print(f\"Loaded {len(docs)} document chunks.\")"
   ]
  },
  {
   "cell_type": "code",
   "execution_count": 14,
   "id": "a1f9b327-fe32-4406-bb5d-a474e9ca6f4f",
   "metadata": {},
   "outputs": [
    {
     "name": "stdout",
     "output_type": "stream",
     "text": [
      "Connecting to hosted Chroma vector store...\n",
      "Ingesting documents into Chroma DB...\n"
     ]
    }
   ],
   "source": [
    "print(\"Connecting to hosted Chroma vector store...\")\n",
    "vectorstore = get_chroma_vectorstore()\n",
    "\n",
    "print(\"Ingesting documents into Chroma DB...\")\n",
    "ingest_documents(vectorstore, docs)"
   ]
  },
  {
   "cell_type": "code",
   "execution_count": null,
   "id": "6e02ae7c-3ee6-4876-a091-6df3995bf125",
   "metadata": {},
   "outputs": [
    {
     "name": "stdout",
     "output_type": "stream",
     "text": [
      "Ready for questions! Type 'exit' to quit.\n"
     ]
    },
    {
     "name": "stdin",
     "output_type": "stream",
     "text": [
      "\n",
      "Enter Policy Number:  PC100123456\n",
      "Ask your question (or type 'change' to enter another policy):  What discounts are applied to this policy, and do they continue after renewal?\n"
     ]
    },
    {
     "name": "stdout",
     "output_type": "stream",
     "text": [
      "\n",
      "Answer:\n",
      " I'm sorry, but the documents provided do not include information about any discounts applied to policy number PC100123456 or whether they continue after renewal.\n",
      "Sources: ['PC100123456_Policy_Test1_ConsolidatedFile.pdf', 'Policy_Renewal_PC100123456.pdf', 'PC100123456_Policy_.pdf']\n"
     ]
    },
    {
     "name": "stdin",
     "output_type": "stream",
     "text": [
      "Ask your question (or type 'change' to enter another policy):  What is the effective and expiration date of the renewed policy term?\n"
     ]
    },
    {
     "name": "stdout",
     "output_type": "stream",
     "text": [
      "\n",
      "Answer:\n",
      " The effective date of the renewed policy term for policy number PC100123456 is September 1, 2020 and the expiration date is September 1, 2021.\n",
      "Sources: ['Policy_Renewal_PC100123456.pdf', 'PC100123456_Policy_Test1_ConsolidatedFile.pdf', 'PC100123456_Policy_.pdf']\n"
     ]
    }
   ],
   "source": [
    "print(\"Ready for questions! Type 'exit' to quit.\")\n",
    "while True:\n",
    "    policy_number = input(\"\\nEnter Policy Number: \").strip()\n",
    "    if policy_number.lower() in [\"exit\", \"quit\"]:\n",
    "        break\n",
    "\n",
    "    qa_chain = create_qa_chain(vectorstore, policy_number)\n",
    "\n",
    "    while True:\n",
    "        question = input(\"Ask your question (or type 'change' to enter another policy): \")\n",
    "        if question.lower() in [\"exit\", \"quit\"]:\n",
    "            break\n",
    "        if question.lower() == \"change\":\n",
    "            break\n",
    "\n",
    "        result = qa_chain({\"query\": f\"You are a insurance agent. Answer as the insurance agent, where the question for policy number {policy_number} is: '{question}'\"})\n",
    "        print(\"\\nAnswer:\\n\", result['result'])\n",
    "        print(\"Sources:\", [doc.metadata['source'] for doc in result['source_documents']])# The answer text\n"
   ]
  },
  {
   "cell_type": "code",
   "execution_count": null,
   "id": "d603ba7b-5019-4eee-8fe0-b0cde451dbfc",
   "metadata": {},
   "outputs": [],
   "source": []
  },
  {
   "cell_type": "code",
   "execution_count": null,
   "id": "89243d55-5567-467c-9216-2e2dba7703c8",
   "metadata": {},
   "outputs": [],
   "source": []
  },
  {
   "cell_type": "code",
   "execution_count": 10,
   "id": "c1fd3f99-b0cd-44ee-a978-da6e221c7819",
   "metadata": {},
   "outputs": [],
   "source": [
    "import chromadb\n",
    "\n",
    "# Connect to your hosted Chroma server\n",
    "client = chromadb.HttpClient(host=\"localhost\", port=8000)\n",
    "\n",
    "# Delete the entire collection (all data)\n",
    "client.delete_collection(\"insurance_policies\")"
   ]
  },
  {
   "cell_type": "code",
   "execution_count": null,
   "id": "a83d8bb9-0d4a-468f-83b7-78f5ea6dac86",
   "metadata": {},
   "outputs": [],
   "source": []
  },
  {
   "cell_type": "code",
   "execution_count": null,
   "id": "bc59d49d-8cb2-4260-86af-d0a870965740",
   "metadata": {},
   "outputs": [],
   "source": []
  }
 ],
 "metadata": {
  "kernelspec": {
   "display_name": "Python 3 (ipykernel)",
   "language": "python",
   "name": "python3"
  },
  "language_info": {
   "codemirror_mode": {
    "name": "ipython",
    "version": 3
   },
   "file_extension": ".py",
   "mimetype": "text/x-python",
   "name": "python",
   "nbconvert_exporter": "python",
   "pygments_lexer": "ipython3",
   "version": "3.10.9"
  }
 },
 "nbformat": 4,
 "nbformat_minor": 5
}
