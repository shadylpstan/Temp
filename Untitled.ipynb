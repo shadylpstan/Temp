{
 "cells": [
  {
   "cell_type": "code",
   "execution_count": 44,
   "id": "22cbf845",
   "metadata": {},
   "outputs": [],
   "source": [
    "from PyPDF2 import PdfFileMerger\n",
    "from PIL import Image\n",
    "import pytesseract\n",
    "# import cv2"
   ]
  },
  {
   "cell_type": "code",
   "execution_count": 45,
   "id": "8038f54c",
   "metadata": {},
   "outputs": [],
   "source": [
    "import fitz\n",
    "import re\n",
    "import os, glob\n",
    "import subprocess\n",
    "import time\n",
    "from subprocess import Popen, PIPE, call\n",
    "from multiprocessing import Pool\n",
    "from multiprocessing.dummy import Pool as ThreadPool "
   ]
  },
  {
   "cell_type": "code",
   "execution_count": 46,
   "id": "dad0aec4",
   "metadata": {},
   "outputs": [],
   "source": [
    "def pdf_to_image(pdffile):\n",
    "    doc = fitz.open(pdffile)\n",
    "    print(\"--------------\")\n",
    "    print(\"Total pages: \" + str(doc.pageCount))\n",
    "    print(\"--------------\")\n",
    "    all_images = []\n",
    "    for i in range(doc.pageCount):\n",
    "        page = doc.load_page(i)  # number of page\n",
    "        pix = page.get_pixmap(dpi=300)\n",
    "        all_images.append(\"images/outfile\" + str(i))\n",
    "        output = \"images/outfile\" + str(i)+ \".png\"\n",
    "        pix.save(output)\n",
    "    return all_images"
   ]
  },
  {
   "cell_type": "code",
   "execution_count": 47,
   "id": "62a20dfc",
   "metadata": {},
   "outputs": [],
   "source": [
    "# def check_image_rotation():\n",
    "#     for file in os.listdir(\"images\"):\n",
    "#         rotation = pytesseract.image_to_osd(\"images/\" + file, config=\"--psm 0 --dpi 300 -c min_characters_to_try=10\")\n",
    "#         rotate = int(re.search('(?<=Rotate: )\\d+', rotation).group(0))\n",
    "#         if rotate > 0:\n",
    "#             im = Image.open(\"images/\" + file)\n",
    "#             im=im.rotate(360-rotate, expand=True)\n",
    "#             im.save(\"images/\" + file)\n",
    "def rotate_image(rotation_dict):\n",
    "    for data in rotation_dict:\n",
    "        if data['error'] == None:\n",
    "            \n",
    "            check_rotation = re.search('(?<=Rotate: )\\d+', data['output'].decode(\"utf-8\"))\n",
    "            if check_rotation is not None:\n",
    "                rotate = int(check_rotation.group(0))\n",
    "                if rotate > 0:\n",
    "                    im = Image.open(data['file'])\n",
    "                    im=im.rotate(360-rotate, expand=True)\n",
    "                    im.save(data['file'])\n",
    "    \n",
    "def check_image_rotation():\n",
    "    rotation_dict = []\n",
    "    procs = [subprocess.Popen(['tesseract', \"--psm\", \"0\", \"--dpi\", \"300\", \"-c\",  \"min_characters_to_try=10\", \"-l\", \"osd\", \"images/\"+file, \"stdout\"], env={'OMP_THREAD_LIMIT':'1'}, stdout=PIPE, stderr=subprocess.STDOUT)\n",
    "         for file in os.listdir(\"images\")]\n",
    "    files = os.listdir(\"images\")\n",
    "    i = 0\n",
    "    for proc in procs:\n",
    "        obj = {}\n",
    "        obj['file'] = \"images/\" + files[i]\n",
    "        i=i+1\n",
    "        proc_output = proc.communicate()\n",
    "        obj['output'] = proc_output[0]\n",
    "        obj['error'] = proc_output[1]\n",
    "        rotation_dict.append(obj)\n",
    "        proc.wait()\n",
    "    rotate_image(rotation_dict)\n",
    "\n"
   ]
  },
  {
   "cell_type": "code",
   "execution_count": null,
   "id": "67aada10",
   "metadata": {},
   "outputs": [],
   "source": []
  },
  {
   "cell_type": "code",
   "execution_count": 48,
   "id": "f4257384",
   "metadata": {},
   "outputs": [],
   "source": [
    "def create_task():\n",
    "    images = []\n",
    "    cmds = []   \n",
    "    for file in os.listdir(\"images\"):\n",
    "        images.append(tuple((\"images/\" + file, \"images/\" + file)))\n",
    "#         string =\"tesseract --psm 11 \" + \"images/\" + file + \" images/\" + file + \" PDF\"\n",
    "#         cmds.append(string)\n",
    "    return images\n",
    "#     return cmds\n",
    "\n"
   ]
  },
  {
   "cell_type": "code",
   "execution_count": 49,
   "id": "a2beb592",
   "metadata": {},
   "outputs": [],
   "source": [
    "def convert_pdf_to_searchable():\n",
    "    t = time.perf_counter()\n",
    "    cmds = create_task()\n",
    "#     print(str(cmds))\n",
    "#     pool = ThreadPool(8) \n",
    "#     results = pool.map(function_create_cmds, cmds)\n",
    "#     print(str(results))\n",
    "#     #close the pool and wait for the work to finish \n",
    "#     pool.close() \n",
    "#     pool.join() \n",
    "    \n",
    "    procs = [subprocess.Popen(['tesseract', \"--psm\", \"11\", infile, outfile, \"PDF\"], stdout=PIPE, stderr=subprocess.STDOUT)\n",
    "         for infile, outfile in cmds]\n",
    "    for proc in procs:\n",
    "#         print(proc.communicate())      env={'OMP_THREAD_LIMIT':'1'},\n",
    "        proc.wait()\n",
    "# tesseract --psm 11 \"Med legal 10.pdf\" check.pdf PDF"
   ]
  },
  {
   "cell_type": "code",
   "execution_count": 50,
   "id": "6916d7d1",
   "metadata": {},
   "outputs": [],
   "source": [
    "def function_create_cmds(cmd):\n",
    "    proc = Popen(cmd , shell=True, stdout=PIPE, stderr=subprocess.STDOUT)\n",
    "    (output, error) = proc.communicate()\n",
    "    return output"
   ]
  },
  {
   "cell_type": "code",
   "execution_count": 51,
   "id": "a2469819",
   "metadata": {},
   "outputs": [],
   "source": [
    "def merge_pdfs(pdffile, all_images):\n",
    "    source_dir = './images/'\n",
    "    merger = PdfFileMerger()\n",
    "#     for item in os.listdir(source_dir):\n",
    "#         print(item)\n",
    "#         if item.endswith('pdf'):\n",
    "#             #print(item)\n",
    "#             merger.append(source_dir + item)\n",
    "    for file in all_images:\n",
    "        if os.path.exists(file + \".png.pdf\"):\n",
    "            merger.append(file + \".png.pdf\")\n",
    "\n",
    "    merger.write('Output_' + pdffile)       \n",
    "    merger.close()"
   ]
  },
  {
   "cell_type": "code",
   "execution_count": 52,
   "id": "33508149",
   "metadata": {},
   "outputs": [],
   "source": [
    "def remove_junk_files():\n",
    "    ##REMOVE DIRECTORY DATA\n",
    "    dir = './images'\n",
    "    filelist = glob.glob(os.path.join(dir, \"*\"))\n",
    "    for f in filelist:\n",
    "        os.remove(f)"
   ]
  },
  {
   "cell_type": "code",
   "execution_count": null,
   "id": "59b52741",
   "metadata": {},
   "outputs": [],
   "source": []
  },
  {
   "cell_type": "code",
   "execution_count": 39,
   "id": "26366dbe",
   "metadata": {},
   "outputs": [
    {
     "name": "stdout",
     "output_type": "stream",
     "text": [
      "\n",
      "===================================\n",
      "\n",
      "Converting pdf pages to images\n",
      "--------------\n",
      "Total pages: 14\n",
      "--------------\n",
      "time taken : 3.719062089920044\n",
      "\n",
      "===================================\n",
      "\n",
      "Checking pages rotations\n",
      "time taken : 7.025469541549683\n",
      "\n",
      "===================================\n",
      "\n",
      "Converting image to searchable pdfs\n",
      "time taken : 14.349047183990479\n",
      "\n",
      "===================================\n",
      "\n",
      "Merging pdfs to one file\n",
      "time taken : 0.28191518783569336\n",
      "\n",
      "===================================\n",
      "\n",
      "Removing temporary created files\n",
      "===================================\n",
      "===================================\n",
      "TOTAL TIME TAKEN : 25.376492261886597\n"
     ]
    }
   ],
   "source": [
    "remove_junk_files()\n",
    "pdffile = \"2080309024 (2).pdf\"\n",
    "\n",
    "start = time.time()\n",
    "initial = start\n",
    "print()\n",
    "print(\"===================================\")\n",
    "print()\n",
    "print(\"Converting pdf pages to images\")\n",
    "all_images = pdf_to_image(pdffile)\n",
    "print(\"time taken : \" + str(time.time() - start))\n",
    "print()\n",
    "print(\"===================================\")\n",
    "print()\n",
    "print(\"Checking pages rotations\")\n",
    "start = time.time()\n",
    "check_image_rotation()\n",
    "print(\"time taken : \" + str(time.time() - start))\n",
    "print()\n",
    "print(\"===================================\")\n",
    "print()\n",
    "print(\"Converting image to searchable pdfs\")\n",
    "start = time.time()\n",
    "convert_pdf_to_searchable()\n",
    "print(\"time taken : \" + str(time.time() - start))\n",
    "print()\n",
    "print(\"===================================\")\n",
    "print()\n",
    "print(\"Merging pdfs to one file\")\n",
    "start = time.time()\n",
    "merge_pdfs(pdffile, all_images)\n",
    "print(\"time taken : \" + str(time.time() - start))\n",
    "\n",
    "print()\n",
    "print(\"===================================\")\n",
    "print()\n",
    "print(\"Removing temporary created files\")\n",
    "# remove_junk_files()\n",
    "print(\"===================================\")\n",
    "print(\"===================================\")\n",
    "print(\"TOTAL TIME TAKEN : \" + str(time.time() - initial))"
   ]
  },
  {
   "cell_type": "code",
   "execution_count": null,
   "id": "d42a9395",
   "metadata": {},
   "outputs": [],
   "source": []
  },
  {
   "cell_type": "code",
   "execution_count": null,
   "id": "fe28255e",
   "metadata": {},
   "outputs": [],
   "source": []
  },
  {
   "cell_type": "code",
   "execution_count": null,
   "id": "3dddec90",
   "metadata": {},
   "outputs": [],
   "source": []
  },
  {
   "cell_type": "code",
   "execution_count": null,
   "id": "73a3724f",
   "metadata": {},
   "outputs": [],
   "source": []
  },
  {
   "cell_type": "code",
   "execution_count": null,
   "id": "8aadf505",
   "metadata": {},
   "outputs": [],
   "source": []
  },
  {
   "cell_type": "code",
   "execution_count": 82,
   "id": "a9adc3a6",
   "metadata": {},
   "outputs": [],
   "source": [
    "\n",
    "pytesseract.pytesseract.tesseract_cmd = \"C:\\\\Program Files\\\\Tesseract-OCR\" + \"\\\\tesseract.exe\"\n",
    "tessdata_dir_config = '--psm 11 --tessdata-dir \"' + \"C:\\\\Program Files\\\\Tesseract-OCR\" + '/tessdata\"'"
   ]
  },
  {
   "cell_type": "code",
   "execution_count": 83,
   "id": "5a3e2382",
   "metadata": {
    "scrolled": true
   },
   "outputs": [
    {
     "name": "stdout",
     "output_type": "stream",
     "text": [
      "images/outfile0.png\n",
      "done outfile0.png\n",
      "2.1928551197052\n"
     ]
    }
   ],
   "source": [
    "start = time.time()\n",
    "for i in os.listdir(\"images\"):\n",
    "    im_path = 'images/'+i\n",
    "    print(im_path)\n",
    "    img = cv2.imread(im_path,1)\n",
    "    result = pytesseract.image_to_pdf_or_hocr(img)\n",
    "#     osd = pytesseract.image_to_osd(img,config=tessdata_dir_config)\n",
    "    print(\"done \" + str(i))\n",
    "    file_name = \"abc\"+'.pdf'\n",
    "    with open(file_name,'wb') as f:\n",
    "        f.write(bytearray(result))\n",
    "#     break\n",
    "print(str(time.time() - start))"
   ]
  },
  {
   "cell_type": "code",
   "execution_count": null,
   "id": "7b115fc2",
   "metadata": {},
   "outputs": [],
   "source": []
  },
  {
   "cell_type": "code",
   "execution_count": null,
   "id": "e97b3d30",
   "metadata": {},
   "outputs": [],
   "source": []
  },
  {
   "cell_type": "code",
   "execution_count": 231,
   "id": "f8c59659",
   "metadata": {},
   "outputs": [],
   "source": []
  },
  {
   "cell_type": "code",
   "execution_count": null,
   "id": "e4599c41",
   "metadata": {},
   "outputs": [],
   "source": []
  }
 ],
 "metadata": {
  "kernelspec": {
   "display_name": "Python v2_code",
   "language": "python",
   "name": "v2_code"
  },
  "language_info": {
   "codemirror_mode": {
    "name": "ipython",
    "version": 3
   },
   "file_extension": ".py",
   "mimetype": "text/x-python",
   "name": "python",
   "nbconvert_exporter": "python",
   "pygments_lexer": "ipython3",
   "version": "3.6.12"
  }
 },
 "nbformat": 4,
 "nbformat_minor": 5
}
