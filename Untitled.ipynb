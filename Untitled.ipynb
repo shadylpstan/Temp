{
 "cells": [
  {
   "cell_type": "code",
   "execution_count": 1,
   "metadata": {},
   "outputs": [],
   "source": [
    "import json\n",
    "import cv2\n",
    "import pytesseract\n"
   ]
  },
  {
   "cell_type": "code",
   "execution_count": 2,
   "metadata": {},
   "outputs": [],
   "source": [
    "from PyPDF2 import PdfFileReader, PdfFileMerger\n",
    "import shutil\n",
    "import pdf2image\n",
    "import os\n",
    "import matplotlib.pyplot as plt"
   ]
  },
  {
   "cell_type": "code",
   "execution_count": 3,
   "metadata": {},
   "outputs": [],
   "source": [
    "from PIL import Image\n",
    "import time\n",
    "import numpy as np\n",
    "from tqdm import tqdm"
   ]
  },
  {
   "cell_type": "code",
   "execution_count": 4,
   "metadata": {},
   "outputs": [],
   "source": [
    "with open(\"./configuration.json\", encoding=\"utf-8\") as file:\n",
    "    data = json.load(file)\n",
    "    pop_path = data['pop_path']\n",
    "    pytesseract.pytesseract.tesseract_cmd = data['tessaract_dir'] + \"\\\\tesseract.exe\"\n",
    "    tessdata_dir_config = '--psm 11 --tessdata-dir \"' + data['tessaract_dir'] + '/tessdata\"'"
   ]
  },
  {
   "cell_type": "code",
   "execution_count": null,
   "metadata": {},
   "outputs": [],
   "source": []
  },
  {
   "cell_type": "code",
   "execution_count": 12,
   "metadata": {},
   "outputs": [],
   "source": [
    "def image_conversion(pdf_path,image_path) :\n",
    "    pil_images = pdf2image.convert_from_path(pdf_path,fmt='.jpg',dpi=300,poppler_path=pop_path)\n",
    "    count=0\n",
    "    for image in pil_images:\n",
    "        image.save(image_path+'/con_'+str(count)+'.jpg')\n",
    "        count+=1"
   ]
  },
  {
   "cell_type": "code",
   "execution_count": 14,
   "metadata": {},
   "outputs": [],
   "source": [
    "image_conversion(\"EZA7494.pdf\", \"img\")"
   ]
  },
  {
   "cell_type": "code",
   "execution_count": 107,
   "metadata": {},
   "outputs": [],
   "source": [
    "image_copy = cv2.imread(\"img/con_0.jpg\",1)"
   ]
  },
  {
   "cell_type": "code",
   "execution_count": 108,
   "metadata": {},
   "outputs": [],
   "source": [
    "def create_pdfs(img_fol=\"img\",out_fol=None):\n",
    "    for img_name in os.listdir(img_fol):\n",
    "        im_path = img_fol+'/'+img_name\n",
    "        print(im_path)\n",
    "        img = cv2.imread(im_path,1)\n",
    "#         result = pytesseract.image_to_pdf_or_hocr(img,config=tessdata_dir_config)\n",
    "        image_data = pytesseract.image_to_data(img, output_type=pytesseract.Output.DICT)\n",
    "#         image_data = pytesseract.image_to_boxes(img, output_type=pytesseract.Output.DICT)\n",
    "    return image_data\n"
   ]
  },
  {
   "cell_type": "code",
   "execution_count": 109,
   "metadata": {},
   "outputs": [
    {
     "name": "stdout",
     "output_type": "stream",
     "text": [
      "img/con_0.jpg\n"
     ]
    }
   ],
   "source": [
    "image_data = create_pdfs()"
   ]
  },
  {
   "cell_type": "code",
   "execution_count": null,
   "metadata": {},
   "outputs": [],
   "source": []
  },
  {
   "cell_type": "code",
   "execution_count": 110,
   "metadata": {},
   "outputs": [],
   "source": [
    "data = image_data"
   ]
  },
  {
   "cell_type": "code",
   "execution_count": 111,
   "metadata": {},
   "outputs": [],
   "source": [
    "ok_word = [ i for i, word in enumerate(data[\"text\"]) if word.lower() == \"ok\" ]\n",
    "to_word = [ i for i, word in enumerate(data[\"text\"]) if word.lower() == \"to\" ]\n",
    "pay_word = [ i for i, word in enumerate(data[\"text\"]) if word.lower() == \"pay\" ]\n",
    "claim_word = [ i for i, word in enumerate(data[\"text\"]) if word.lower() == \"claim\" ]\n",
    "sub_word = [ i for i, word in enumerate(data[\"text\"]) if word.lower() == \"sub\" ]\n",
    "val_word = [ i for i, word in enumerate(data[\"text\"]) if word.lower() == \"val\" ]\n",
    "service_word = [ i for i, word in enumerate(data[\"text\"]) if word.lower() == \"service\" ]"
   ]
  },
  {
   "cell_type": "code",
   "execution_count": 117,
   "metadata": {},
   "outputs": [],
   "source": [
    "data_points = [ok_word, to_word, pay_word, claim_word,sub_word, val_word, service_word]"
   ]
  },
  {
   "cell_type": "code",
   "execution_count": 119,
   "metadata": {},
   "outputs": [],
   "source": [
    "data_points = {\n",
    "    \"ok_word\": ok_word,\n",
    "    \"to_word\" : to_word,\n",
    "    \"pay_word\": pay_word,\n",
    "    \"claim_word\": claim_word,\n",
    "    \"sub_word\": sub_word,\n",
    "    \"val_word\": val_word,\n",
    "    \"service_word\": service_word\n",
    "}"
   ]
  },
  {
   "cell_type": "code",
   "execution_count": 121,
   "metadata": {},
   "outputs": [
    {
     "name": "stdout",
     "output_type": "stream",
     "text": [
      "ok_word : (3342, 1152)\n",
      "to_word : (6925, 2784)\n",
      "to_word : (3381, 6055)\n",
      "to_word : (3968, 6454)\n",
      "to_word : (2700, 6634)\n",
      "to_word : (3960, 6844)\n",
      "to_word : (3660, 7032)\n",
      "to_word : (3968, 7251)\n",
      "to_word : (5661, 7247)\n",
      "to_word : (3060, 9304)\n",
      "to_word : (3158, 9891)\n",
      "to_word : (3694, 10311)\n",
      "pay_word : (4705, 2815)\n",
      "claim_word : (3342, 1620)\n",
      "claim_word : (7504, 4307)\n",
      "val_word : (3271, 2082)\n",
      "service_word : (3338, 2541)\n"
     ]
    }
   ],
   "source": [
    "image_copy = cv2.imread(\"img/con_0.jpg\",1)\n",
    "for points in data_points:\n",
    "    for occ in data_points[points]:\n",
    "        # extract the width, height, top and left position for that detected word\n",
    "        w = data[\"width\"][occ]\n",
    "        h = data[\"height\"][occ]\n",
    "        l = data[\"left\"][occ]\n",
    "        t = data[\"top\"][occ]\n",
    "        # define all the surrounding box points\n",
    "        p1 = (l, t)\n",
    "        p2 = (l + w, t)\n",
    "        p3 = (l + w, t + h)\n",
    "        p4 = (l, t + h)\n",
    "        print(str(points) + \" : \" + str(p1))\n",
    "        # draw the 4 lines (rectangular)\n",
    "        image_copy = cv2.line(image_copy, p1, p2, color=(255, 0, 0), thickness=2)\n",
    "        image_copy = cv2.line(image_copy, p2, p3, color=(255, 0, 0), thickness=2)\n",
    "        image_copy = cv2.line(image_copy, p3, p4, color=(255, 0, 0), thickness=2)\n",
    "        image_copy = cv2.line(image_copy, p4, p1, color=(255, 0, 0), thickness=2)\n"
   ]
  },
  {
   "cell_type": "code",
   "execution_count": null,
   "metadata": {},
   "outputs": [],
   "source": []
  },
  {
   "cell_type": "code",
   "execution_count": null,
   "metadata": {},
   "outputs": [],
   "source": []
  },
  {
   "cell_type": "code",
   "execution_count": 5,
   "metadata": {},
   "outputs": [],
   "source": [
    "def contours(imgpath=None, save=False):\n",
    "    \n",
    "    #dialation and contour\n",
    "    H_dilate = 399\n",
    "    x_dilate = 39\n",
    "    y_dilate = 69\n",
    "    x_padding = 5\n",
    "    y_padding = 10\n",
    "    iterations = 1\n",
    "    IMG_FOLDER_PATH=\"test/\"\n",
    "    NEW_FOLDER_PATH=\"test/\"\n",
    "    TLOGS_FOLDER_PATH=\"test/\"\n",
    "    VLOGS_FOLDER_PATH = \"test/\"\n",
    "    HLOGS_FOLDER_PATH = \"test/\"\n",
    "\n",
    "    start_time = time.time()\n",
    "    image = cv2.imread(imgpath)\n",
    "    # orig = image.copy()\n",
    "    gray = cv2.cvtColor(image, cv2.COLOR_BGR2GRAY)\n",
    "#     filename = (imgpath.split('/')[-1])\n",
    "#     name, ext = os.path.splitext(filename)\n",
    "    name = \"img\"\n",
    "    ext = \"jpg\"\n",
    "    thresh = cv2.threshold(gray, 0, 255, cv2.THRESH_BINARY_INV + cv2.THRESH_OTSU)[1]\n",
    "    # define a horizontal kernel\n",
    "#     Hkernel = np.append((np.ones((int)((H_dilate + 1) / 2))).astype(np.uint8),\n",
    "#                         (np.zeros((int)((H_dilate - 1) / 2))).astype(np.uint8)).reshape(1, H_dilate)\n",
    "    Hkernel = np.append((np.ones((int)((H_dilate + 1) / 2))).astype(np.uint8),\n",
    "                        (np.zeros((int)((H_dilate - 1) / 2))).astype(np.uint8)).reshape(1, H_dilate)\n",
    "    Hdilate = cv2.dilate(thresh, Hkernel, iterations)\n",
    "    # define a vertical kernel\n",
    "    center_x = int((x_dilate + 1) / 2)\n",
    "    center_y = int((y_dilate + 1) / 2)\n",
    "    inner = np.ones(center_x * center_y).reshape(center_y, center_x).astype(np.uint8)\n",
    "    outer_r = np.zeros((x_dilate - center_x) * center_y).reshape(center_y, (x_dilate - center_x)).astype(np.uint8)\n",
    "    outer_d = np.zeros((x_dilate) * -1 * (center_y - y_dilate)).reshape(y_dilate - center_y, x_dilate).astype(np.uint8)\n",
    "    final = np.append(inner, outer_r, 1)\n",
    "    Vkernel = np.append(final, outer_d, 0)\n",
    "    Vdilate = cv2.dilate(thresh, Vkernel, iterations=iterations)\n",
    "    Hcnts = cv2.findContours(Hdilate, cv2.RETR_EXTERNAL, cv2.CHAIN_APPROX_SIMPLE)\n",
    "    Hcnts = Hcnts[0] if len(Hcnts) == 2 else Hcnts[1]\n",
    "    Vcnts = cv2.findContours(Vdilate, cv2.RETR_EXTERNAL, cv2.CHAIN_APPROX_SIMPLE)\n",
    "    Vcnts = Vcnts[0] if len(Vcnts) == 2 else Vcnts[1]\n",
    "#     pytesseract.pytesseract.tesseract_cmd = data['tessaract_dir'] + \"\\\\tesseract.exe\"\n",
    "    config = (\"-l eng --oem 1 --psm 3\")\n",
    "    results = []\n",
    "    height = image.shape[0]\n",
    "    width = image.shape[1]\n",
    "    i = 0\n",
    "    print(len(Hcnts))\n",
    "    print(len(Vcnts))\n",
    "    for c in tqdm(reversed(Hcnts)):\n",
    "        startX, startY, w, h = cv2.boundingRect(c)\n",
    "        endX = startX + w\n",
    "        endY = startY + h\n",
    "        if (endX >= width - 1):\n",
    "            eX = width\n",
    "        else:\n",
    "            eX = endX - int((H_dilate - 1) / 2)\n",
    "        if (endX <= width):\n",
    "            if (endX - startX > H_dilate):\n",
    "                roi = image[startY:endY, startX:eX]\n",
    "                text = pytesseract.image_to_string(roi, config=config)\n",
    "                results.append(((startX, startY, eX, endY), text))\n",
    "        else:\n",
    "            if (startY >= 8 and endY <= height - 8 and startX >= 5):\n",
    "                roi = image[startY - 8:endY + 8, startX - 5:eX + 5]\n",
    "                text = pytesseract.image_to_string(roi, config=config)\n",
    "                results.append(((startX - 5, startY - 8, eX + 5, endY + 8), text))\n",
    "            elif (startY >= 2 and endY <= height - 2 and startX >= 3):\n",
    "                roi = image[startY - 2:endY + 2, startX - 3:eX + 3]\n",
    "                text = pytesseract.image_to_string(roi, config=config)\n",
    "                results.append(((startX - 3, startY - 2, eX + 3, endY + 2), text))\n",
    "        i = i + 1\n",
    "    for c in tqdm(reversed(Vcnts)):\n",
    "        startX, startY, w, h = cv2.boundingRect(c)\n",
    "        endX = startX + w\n",
    "        endY = startY + h\n",
    "        if (startX >= x_padding and endX <= (width - x_padding) and startY >= y_padding and endY <= (\n",
    "                height - y_padding)):\n",
    "            roi = image[startY - y_padding:endY + y_padding, startX - x_padding:endX + x_padding]\n",
    "            text = pytesseract.image_to_string(roi, config=config)\n",
    "            results.append(((startX - x_padding, startY - y_padding, endX + x_padding, endY + y_padding), text))\n",
    "    if (save):\n",
    "        _ = cv2.imwrite(HLOGS_FOLDER_PATH + name + '_Hdilate.png', Hdilate)\n",
    "        _ = cv2.imwrite(VLOGS_FOLDER_PATH + name + '_Vdilate.png', Vdilate)\n",
    "    time_elapsed = time.time() - start_time\n",
    "    return (results, time_elapsed)"
   ]
  },
  {
   "cell_type": "code",
   "execution_count": 6,
   "metadata": {},
   "outputs": [
    {
     "name": "stderr",
     "output_type": "stream",
     "text": [
      "\r",
      "0it [00:00, ?it/s]"
     ]
    },
    {
     "name": "stdout",
     "output_type": "stream",
     "text": [
      "158\n",
      "418\n"
     ]
    },
    {
     "name": "stderr",
     "output_type": "stream",
     "text": [
      "158it [02:21,  1.12it/s]\n",
      "418it [05:34,  1.25it/s]\n"
     ]
    }
   ],
   "source": [
    "results = contours(\"img.jpg\", True)"
   ]
  },
  {
   "cell_type": "code",
   "execution_count": null,
   "metadata": {},
   "outputs": [],
   "source": []
  },
  {
   "cell_type": "code",
   "execution_count": 149,
   "metadata": {},
   "outputs": [],
   "source": [
    "def find_contours(imgpath=None):\n",
    "    \n",
    "    #dialation and contour\n",
    "    H_dilate = 399\n",
    "    x_dilate = 39\n",
    "    y_dilate = 69\n",
    "    x_padding = 5\n",
    "    y_padding = 10\n",
    "    iterations = 3\n",
    "    IMG_FOLDER_PATH=\"test/\"\n",
    "    NEW_FOLDER_PATH=\"test/\"\n",
    "    TLOGS_FOLDER_PATH=\"test/\"\n",
    "    VLOGS_FOLDER_PATH = \"test/\"\n",
    "    HLOGS_FOLDER_PATH = \"test/\"\n",
    "\n",
    " \n",
    "\n",
    " \n",
    "    config = (\"-l eng --psm 11\")\n",
    " \n",
    "\n",
    "    start_time = time.time()\n",
    "    image = cv2.imread(imgpath)\n",
    "#     real_image = cv2.imread(\"img/con_clearpdf.jpg\")\n",
    "    # orig = image.copy()\n",
    "    gray = cv2.cvtColor(image, cv2.COLOR_BGR2GRAY)\n",
    "#     filename = (imgpath.split('/')[-1])\n",
    "#     name, ext = os.path.splitext(filename)\n",
    "    name = \"img\"\n",
    "    ext = \"jpg\"\n",
    "    thresh = cv2.threshold(gray, 0, 255, cv2.THRESH_BINARY_INV + cv2.THRESH_OTSU)[1]\n",
    "    # define a horizontal kernel\n",
    "#     Hkernel = np.append((np.ones((int)((H_dilate + 1) / 2))).astype(np.uint8),\n",
    "#                         (np.zeros((int)((H_dilate - 1) / 2))).astype(np.uint8)).reshape(1, H_dilate)\n",
    "    Hkernel = np.append((np.ones((int)((H_dilate + 1) / 2))).astype(np.uint8),\n",
    "                        (np.zeros((int)((H_dilate - 1) / 2))).astype(np.uint8)).reshape(1, H_dilate)\n",
    "    Hdilate = cv2.dilate(thresh, Hkernel, iterations)\n",
    "    # define a vertical kernel\n",
    "    center_x = int((x_dilate + 1) / 2)\n",
    "    center_y = int((y_dilate + 1) / 2)\n",
    "    inner = np.ones(center_x * center_y).reshape(center_y, center_x).astype(np.uint8)\n",
    "    outer_r = np.zeros((x_dilate - center_x) * center_y).reshape(center_y, (x_dilate - center_x)).astype(np.uint8)\n",
    "    outer_d = np.zeros((x_dilate) * -1 * (center_y - y_dilate)).reshape(y_dilate - center_y, x_dilate).astype(np.uint8)\n",
    "    final = np.append(inner, outer_r, 1)\n",
    "    Vkernel = np.append(final, outer_d, 0)\n",
    "    Vdilate = cv2.dilate(thresh, Vkernel, iterations=iterations)\n",
    "    Hcnts = cv2.findContours(Hdilate, cv2.RETR_EXTERNAL, cv2.CHAIN_APPROX_SIMPLE)\n",
    "    Hcnts = Hcnts[0] if len(Hcnts) == 2 else Hcnts[1]\n",
    "    Vcnts = cv2.findContours(Vdilate, cv2.RETR_EXTERNAL, cv2.CHAIN_APPROX_SIMPLE)\n",
    "    Vcnts = Vcnts[0] if len(Vcnts) == 2 else Vcnts[1]\n",
    "    img_h = image.copy()\n",
    "    print(len(Hcnts))\n",
    "    i = 0\n",
    "    for contour in Hcnts:\n",
    "        # get rectangle bounding contour\n",
    "        [x, y, w, h] = cv2.boundingRect(contour)\n",
    "#         print(str(i) + \"----------------\")\n",
    "#         i=i+1\n",
    "#         roi = image[y-10:y+h+10, x-10:x+w+10]\n",
    "#         try:\n",
    "#             text = pytesseract.image_to_string(roi, config='--psm 13 --oem 1')\n",
    "#         except Exception as e:\n",
    "#             continue\n",
    "#         print(text)\n",
    "\n",
    " \n",
    "\n",
    "        # Don't plot small false positives that aren't text\n",
    "        if w < 35 and h < 35:\n",
    "            continue\n",
    "\n",
    " \n",
    "\n",
    "        # draw rectangle around contour on original image\n",
    "        cv2.rectangle(img_h, (x, y), (x + w, y + h), (0, 255, 255), 12)\n",
    "    cv2.imwrite('contours/captcha_result_horz_1.jpg',img_h)     \n",
    "    img_v = image.copy()  \n",
    "    i = 0\n",
    "    print(len(Vcnts))\n",
    "    for contour in Vcnts:\n",
    "        \n",
    "        # get rectangle bounding contour\n",
    "        [x, y, w, h] = cv2.boundingRect(contour)\n",
    "        print(str(i) + \"----------------\")\n",
    "        i=i+1\n",
    "#         roi = real_image[y:y+h, x:x+w]\n",
    "        try:\n",
    "#             text = pytesseract.image_to_string(roi, config='--psm 6 --oem 1')\n",
    "#             print(text)\n",
    "\n",
    "#             roi = real_image[y:y+h, x:x+w]\n",
    "#             cv2.imwrite(\"stamp.png\", roi)\n",
    "            print()\n",
    "\n",
    "        except Exception as e:\n",
    "            continue\n",
    "        \n",
    "\n",
    " \n",
    "\n",
    "        # Don't plot small false positives that aren't text\n",
    "        if w < 35 and h < 35:\n",
    "            continue\n",
    "\n",
    " \n",
    "\n",
    "        # draw rectangle around contour on original image\n",
    "        cv2.rectangle(img_v, (x, y), (x + w, y + h), (255, 0, 255), 12)    \n",
    "    cv2.imwrite('contours/captcha_result_vert_1.jpg',img_v)    \n",
    "    return 0"
   ]
  },
  {
   "cell_type": "code",
   "execution_count": 150,
   "metadata": {},
   "outputs": [
    {
     "name": "stdout",
     "output_type": "stream",
     "text": [
      "126\n",
      "9\n",
      "0----------------\n",
      "\n",
      "1----------------\n",
      "\n",
      "2----------------\n",
      "\n",
      "3----------------\n",
      "\n",
      "4----------------\n",
      "\n",
      "5----------------\n",
      "\n",
      "6----------------\n",
      "\n",
      "7----------------\n",
      "\n",
      "8----------------\n",
      "\n"
     ]
    },
    {
     "data": {
      "text/plain": [
       "0"
      ]
     },
     "execution_count": 150,
     "metadata": {},
     "output_type": "execute_result"
    }
   ],
   "source": [
    "find_contours(\"invert_final.png\")"
   ]
  },
  {
   "cell_type": "code",
   "execution_count": 96,
   "metadata": {},
   "outputs": [],
   "source": [
    "stamp = cv2.imread(\"stamp.png\")"
   ]
  },
  {
   "cell_type": "code",
   "execution_count": 98,
   "metadata": {},
   "outputs": [
    {
     "data": {
      "text/plain": [
       "'to Pay - February 4,\\nCharlene Kaeley\\n\\nClaim # 2010300010\\nPaykind Code: 35 aty |\\nService State:\\nspecial Inst: pay in fu\\nClose Claim?'"
      ]
     },
     "execution_count": 98,
     "metadata": {},
     "output_type": "execute_result"
    }
   ],
   "source": [
    "pytesseract.image_to_string(stamp, config='--psm 6 --oem 1')"
   ]
  },
  {
   "cell_type": "code",
   "execution_count": null,
   "metadata": {},
   "outputs": [],
   "source": []
  }
 ],
 "metadata": {
  "kernelspec": {
   "display_name": "Python v2_code",
   "language": "python",
   "name": "v2_code"
  },
  "language_info": {
   "codemirror_mode": {
    "name": "ipython",
    "version": 3
   },
   "file_extension": ".py",
   "mimetype": "text/x-python",
   "name": "python",
   "nbconvert_exporter": "python",
   "pygments_lexer": "ipython3",
   "version": "3.6.12"
  }
 },
 "nbformat": 4,
 "nbformat_minor": 2
}
