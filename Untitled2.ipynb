{
 "cells": [
  {
   "cell_type": "code",
   "execution_count": 1,
   "metadata": {},
   "outputs": [],
   "source": [
    "import cv2"
   ]
  },
  {
   "cell_type": "code",
   "execution_count": 2,
   "metadata": {},
   "outputs": [],
   "source": [
    "import imutils\n",
    "import numpy as np\n",
    "import matplotlib.pyplot as plt"
   ]
  },
  {
   "cell_type": "code",
   "execution_count": null,
   "metadata": {},
   "outputs": [],
   "source": []
  },
  {
   "cell_type": "code",
   "execution_count": 24,
   "metadata": {},
   "outputs": [
    {
     "data": {
      "text/plain": [
       "True"
      ]
     },
     "execution_count": 24,
     "metadata": {},
     "output_type": "execute_result"
    }
   ],
   "source": [
    "image = cv2.imread('img/con_clearpdf.jpg')\n",
    "removed = image.copy()\n",
    "gray = cv2.cvtColor(image,cv2.COLOR_BGR2GRAY)\n",
    "thresh = cv2.threshold(gray, 0, 255, cv2.THRESH_BINARY_INV + cv2.THRESH_OTSU)[1]\n",
    "\n",
    "# Remove vertical lines\n",
    "vertical_kernel = cv2.getStructuringElement(cv2.MORPH_RECT, (1,100))\n",
    "remove_vertical = cv2.morphologyEx(thresh, cv2.MORPH_OPEN, vertical_kernel, iterations=2)\n",
    "cnts = cv2.findContours(remove_vertical, cv2.RETR_EXTERNAL, cv2.CHAIN_APPROX_SIMPLE)\n",
    "cnts = cnts[0] if len(cnts) == 2 else cnts[1]\n",
    "for c in cnts:\n",
    "    cv2.drawContours(removed, [c], -1, (255,255,255), 20)\n",
    "\n",
    "# Remove horizontal lines\n",
    "horizontal_kernel = cv2.getStructuringElement(cv2.MORPH_RECT, (100,1))\n",
    "remove_horizontal = cv2.morphologyEx(thresh, cv2.MORPH_OPEN, horizontal_kernel, iterations=2)\n",
    "cnts = cv2.findContours(remove_horizontal, cv2.RETR_EXTERNAL, cv2.CHAIN_APPROX_SIMPLE)\n",
    "cnts = cnts[0] if len(cnts) == 2 else cnts[1]\n",
    "for c in cnts:\n",
    "    cv2.drawContours(removed, [c], -1, (255,255,255), 20)\n",
    "\n",
    "# Repair kernel\n",
    "repair_kernel = cv2.getStructuringElement(cv2.MORPH_ELLIPSE, (3,3))\n",
    "removed = 255 - removed\n",
    "dilate = cv2.dilate(removed, repair_kernel, iterations=5)\n",
    "dilate = cv2.cvtColor(dilate, cv2.COLOR_BGR2GRAY)\n",
    "pre_result = cv2.bitwise_and(dilate, thresh)\n",
    "\n",
    "result = cv2.morphologyEx(pre_result, cv2.MORPH_CLOSE, repair_kernel, iterations=10)\n",
    "final = cv2.bitwise_and(result, thresh)\n",
    "\n",
    "invert_final = 255 - final\n",
    "\n",
    "cv2.imwrite('thresh.jpg', thresh)\n",
    "cv2.imwrite('removed.jpg', removed)\n",
    "cv2.imwrite('dilate.jpg', dilate)\n",
    "cv2.imwrite('pre_result.jpg', pre_result)\n",
    "cv2.imwrite('result.jpg', result)\n",
    "cv2.imwrite('final.jpg', final)\n",
    "cv2.imwrite('invert_final.png', invert_final)\n"
   ]
  },
  {
   "cell_type": "code",
   "execution_count": null,
   "metadata": {},
   "outputs": [],
   "source": []
  }
 ],
 "metadata": {
  "kernelspec": {
   "display_name": "Python v2_code",
   "language": "python",
   "name": "v2_code"
  },
  "language_info": {
   "codemirror_mode": {
    "name": "ipython",
    "version": 3
   },
   "file_extension": ".py",
   "mimetype": "text/x-python",
   "name": "python",
   "nbconvert_exporter": "python",
   "pygments_lexer": "ipython3",
   "version": "3.6.12"
  }
 },
 "nbformat": 4,
 "nbformat_minor": 2
}
